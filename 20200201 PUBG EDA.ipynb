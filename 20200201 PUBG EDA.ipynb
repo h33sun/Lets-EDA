{
 "cells": [
  {
   "cell_type": "code",
   "execution_count": 1,
   "metadata": {},
   "outputs": [],
   "source": [
    "%run C:\\Users\\HSS\\dd.py"
   ]
  },
  {
   "cell_type": "code",
   "execution_count": 2,
   "metadata": {},
   "outputs": [],
   "source": [
    "import os\n",
    "cwd = os.getcwd()\n"
   ]
  },
  {
   "cell_type": "code",
   "execution_count": 3,
   "metadata": {},
   "outputs": [
    {
     "data": {
      "text/plain": [
       "'C:\\\\Users\\\\HSS\\\\Documents\\\\dev\\\\Lets-EDA'"
      ]
     },
     "execution_count": 3,
     "metadata": {},
     "output_type": "execute_result"
    }
   ],
   "source": [
    "cwd"
   ]
  },
  {
   "cell_type": "code",
   "execution_count": 4,
   "metadata": {},
   "outputs": [
    {
     "name": "stdout",
     "output_type": "stream",
     "text": [
      "148.6670265197754\n"
     ]
    }
   ],
   "source": [
    "import time\n",
    "start = time.time()\n",
    "train = pd.read_csv(cwd+'/data/train.csv')\n",
    "end = time.time()\n",
    "print(end-start)"
   ]
  },
  {
   "cell_type": "code",
   "execution_count": 5,
   "metadata": {},
   "outputs": [
    {
     "name": "stdout",
     "output_type": "stream",
     "text": [
      "<class 'pandas.core.frame.DataFrame'>\n",
      "RangeIndex: 4446966 entries, 0 to 4446965\n",
      "Data columns (total 29 columns):\n",
      "Id                 object\n",
      "groupId            object\n",
      "matchId            object\n",
      "assists            int64\n",
      "boosts             int64\n",
      "damageDealt        float64\n",
      "DBNOs              int64\n",
      "headshotKills      int64\n",
      "heals              int64\n",
      "killPlace          int64\n",
      "killPoints         int64\n",
      "kills              int64\n",
      "killStreaks        int64\n",
      "longestKill        float64\n",
      "matchDuration      int64\n",
      "matchType          object\n",
      "maxPlace           int64\n",
      "numGroups          int64\n",
      "rankPoints         int64\n",
      "revives            int64\n",
      "rideDistance       float64\n",
      "roadKills          int64\n",
      "swimDistance       float64\n",
      "teamKills          int64\n",
      "vehicleDestroys    int64\n",
      "walkDistance       float64\n",
      "weaponsAcquired    int64\n",
      "winPoints          int64\n",
      "winPlacePerc       float64\n",
      "dtypes: float64(6), int64(19), object(4)\n",
      "memory usage: 983.9+ MB\n"
     ]
    }
   ],
   "source": [
    "train.info()"
   ]
  },
  {
   "cell_type": "code",
   "execution_count": 6,
   "metadata": {},
   "outputs": [],
   "source": [
    "data = train.copy()"
   ]
  },
  {
   "cell_type": "code",
   "execution_count": 7,
   "metadata": {},
   "outputs": [
    {
     "data": {
      "text/html": [
       "<div>\n",
       "<style scoped>\n",
       "    .dataframe tbody tr th:only-of-type {\n",
       "        vertical-align: middle;\n",
       "    }\n",
       "\n",
       "    .dataframe tbody tr th {\n",
       "        vertical-align: top;\n",
       "    }\n",
       "\n",
       "    .dataframe thead th {\n",
       "        text-align: right;\n",
       "    }\n",
       "</style>\n",
       "<table border=\"1\" class=\"dataframe\">\n",
       "  <thead>\n",
       "    <tr style=\"text-align: right;\">\n",
       "      <th></th>\n",
       "      <th>Id</th>\n",
       "      <th>groupId</th>\n",
       "      <th>matchId</th>\n",
       "      <th>assists</th>\n",
       "      <th>boosts</th>\n",
       "      <th>damageDealt</th>\n",
       "      <th>DBNOs</th>\n",
       "      <th>headshotKills</th>\n",
       "      <th>heals</th>\n",
       "      <th>killPlace</th>\n",
       "      <th>...</th>\n",
       "      <th>revives</th>\n",
       "      <th>rideDistance</th>\n",
       "      <th>roadKills</th>\n",
       "      <th>swimDistance</th>\n",
       "      <th>teamKills</th>\n",
       "      <th>vehicleDestroys</th>\n",
       "      <th>walkDistance</th>\n",
       "      <th>weaponsAcquired</th>\n",
       "      <th>winPoints</th>\n",
       "      <th>winPlacePerc</th>\n",
       "    </tr>\n",
       "  </thead>\n",
       "  <tbody>\n",
       "    <tr>\n",
       "      <th>0</th>\n",
       "      <td>7f96b2f878858a</td>\n",
       "      <td>4d4b580de459be</td>\n",
       "      <td>a10357fd1a4a91</td>\n",
       "      <td>0</td>\n",
       "      <td>0</td>\n",
       "      <td>0.00</td>\n",
       "      <td>0</td>\n",
       "      <td>0</td>\n",
       "      <td>0</td>\n",
       "      <td>60</td>\n",
       "      <td>...</td>\n",
       "      <td>0</td>\n",
       "      <td>0.0000</td>\n",
       "      <td>0</td>\n",
       "      <td>0.00</td>\n",
       "      <td>0</td>\n",
       "      <td>0</td>\n",
       "      <td>244.80</td>\n",
       "      <td>1</td>\n",
       "      <td>1466</td>\n",
       "      <td>0.4444</td>\n",
       "    </tr>\n",
       "    <tr>\n",
       "      <th>1</th>\n",
       "      <td>eef90569b9d03c</td>\n",
       "      <td>684d5656442f9e</td>\n",
       "      <td>aeb375fc57110c</td>\n",
       "      <td>0</td>\n",
       "      <td>0</td>\n",
       "      <td>91.47</td>\n",
       "      <td>0</td>\n",
       "      <td>0</td>\n",
       "      <td>0</td>\n",
       "      <td>57</td>\n",
       "      <td>...</td>\n",
       "      <td>0</td>\n",
       "      <td>0.0045</td>\n",
       "      <td>0</td>\n",
       "      <td>11.04</td>\n",
       "      <td>0</td>\n",
       "      <td>0</td>\n",
       "      <td>1434.00</td>\n",
       "      <td>5</td>\n",
       "      <td>0</td>\n",
       "      <td>0.6400</td>\n",
       "    </tr>\n",
       "    <tr>\n",
       "      <th>2</th>\n",
       "      <td>1eaf90ac73de72</td>\n",
       "      <td>6a4a42c3245a74</td>\n",
       "      <td>110163d8bb94ae</td>\n",
       "      <td>1</td>\n",
       "      <td>0</td>\n",
       "      <td>68.00</td>\n",
       "      <td>0</td>\n",
       "      <td>0</td>\n",
       "      <td>0</td>\n",
       "      <td>47</td>\n",
       "      <td>...</td>\n",
       "      <td>0</td>\n",
       "      <td>0.0000</td>\n",
       "      <td>0</td>\n",
       "      <td>0.00</td>\n",
       "      <td>0</td>\n",
       "      <td>0</td>\n",
       "      <td>161.80</td>\n",
       "      <td>2</td>\n",
       "      <td>0</td>\n",
       "      <td>0.7755</td>\n",
       "    </tr>\n",
       "    <tr>\n",
       "      <th>3</th>\n",
       "      <td>4616d365dd2853</td>\n",
       "      <td>a930a9c79cd721</td>\n",
       "      <td>f1f1f4ef412d7e</td>\n",
       "      <td>0</td>\n",
       "      <td>0</td>\n",
       "      <td>32.90</td>\n",
       "      <td>0</td>\n",
       "      <td>0</td>\n",
       "      <td>0</td>\n",
       "      <td>75</td>\n",
       "      <td>...</td>\n",
       "      <td>0</td>\n",
       "      <td>0.0000</td>\n",
       "      <td>0</td>\n",
       "      <td>0.00</td>\n",
       "      <td>0</td>\n",
       "      <td>0</td>\n",
       "      <td>202.70</td>\n",
       "      <td>3</td>\n",
       "      <td>0</td>\n",
       "      <td>0.1667</td>\n",
       "    </tr>\n",
       "    <tr>\n",
       "      <th>4</th>\n",
       "      <td>315c96c26c9aac</td>\n",
       "      <td>de04010b3458dd</td>\n",
       "      <td>6dc8ff871e21e6</td>\n",
       "      <td>0</td>\n",
       "      <td>0</td>\n",
       "      <td>100.00</td>\n",
       "      <td>0</td>\n",
       "      <td>0</td>\n",
       "      <td>0</td>\n",
       "      <td>45</td>\n",
       "      <td>...</td>\n",
       "      <td>0</td>\n",
       "      <td>0.0000</td>\n",
       "      <td>0</td>\n",
       "      <td>0.00</td>\n",
       "      <td>0</td>\n",
       "      <td>0</td>\n",
       "      <td>49.75</td>\n",
       "      <td>2</td>\n",
       "      <td>0</td>\n",
       "      <td>0.1875</td>\n",
       "    </tr>\n",
       "  </tbody>\n",
       "</table>\n",
       "<p>5 rows × 29 columns</p>\n",
       "</div>"
      ],
      "text/plain": [
       "               Id         groupId         matchId  assists  boosts  \\\n",
       "0  7f96b2f878858a  4d4b580de459be  a10357fd1a4a91        0       0   \n",
       "1  eef90569b9d03c  684d5656442f9e  aeb375fc57110c        0       0   \n",
       "2  1eaf90ac73de72  6a4a42c3245a74  110163d8bb94ae        1       0   \n",
       "3  4616d365dd2853  a930a9c79cd721  f1f1f4ef412d7e        0       0   \n",
       "4  315c96c26c9aac  de04010b3458dd  6dc8ff871e21e6        0       0   \n",
       "\n",
       "   damageDealt  DBNOs  headshotKills  heals  killPlace      ...       revives  \\\n",
       "0         0.00      0              0      0         60      ...             0   \n",
       "1        91.47      0              0      0         57      ...             0   \n",
       "2        68.00      0              0      0         47      ...             0   \n",
       "3        32.90      0              0      0         75      ...             0   \n",
       "4       100.00      0              0      0         45      ...             0   \n",
       "\n",
       "   rideDistance  roadKills  swimDistance  teamKills vehicleDestroys  \\\n",
       "0        0.0000          0          0.00          0               0   \n",
       "1        0.0045          0         11.04          0               0   \n",
       "2        0.0000          0          0.00          0               0   \n",
       "3        0.0000          0          0.00          0               0   \n",
       "4        0.0000          0          0.00          0               0   \n",
       "\n",
       "   walkDistance  weaponsAcquired  winPoints  winPlacePerc  \n",
       "0        244.80                1       1466        0.4444  \n",
       "1       1434.00                5          0        0.6400  \n",
       "2        161.80                2          0        0.7755  \n",
       "3        202.70                3          0        0.1667  \n",
       "4         49.75                2          0        0.1875  \n",
       "\n",
       "[5 rows x 29 columns]"
      ]
     },
     "execution_count": 7,
     "metadata": {},
     "output_type": "execute_result"
    }
   ],
   "source": [
    "data.head(5)"
   ]
  },
  {
   "cell_type": "markdown",
   "metadata": {},
   "source": [
    "- `groupId` - Integer ID to identify a group within a match. If the same group of players plays in different matches, they will have a different groupId each time.\n",
    "- `matchId` - Integer ID to identify match. There are no matches that are in both the training and testing set.\n",
    "- `assists` - Number of enemy players this player damaged that were killed by teammates.\n",
    "- `boosts` - Number of boost items used.\n",
    "- `damageDealt` - Total damage dealt. Note: Self inflicted damage is subtracted.\n",
    "- `DBNOs` - Number of enemy players knocked.\n",
    "- `headshotKills` - Number of enemy players killed with headshots.\n",
    "- `heals` - Number of healing items used.\n",
    "- `killPlace` - Ranking in match of number of enemy players killed.\n",
    "- `killPoints` - Kills-based external ranking of player. (Think of this as an Elo ranking where only kills matter.)\n",
    "- `kills` - Number of enemy players killed.\n",
    "- `killStreaks` - Max number of enemy players killed in a short amount of time.\n",
    "- `longestKill` - Longest distance between player and player killed at time of death. This may be misleading, as downing a - player and driving away may lead to a large longestKill stat.\n",
    "- `maxPlace` - Worst placement we have data for in the match. This may not match with numGroups, as sometimes the data skips over placements.\n",
    "- `numGroups` - Number of groups we have data for in the match.\n",
    "- `revives` - Number of times this player revived teammates.\n",
    "- `rideDistance` - Total distance traveled in vehicles measured in meters.\n",
    "- `roadKills` - Number of kills while in a vehicle.\n",
    "- `swimDistance` - Total distance traveled by swimming measured in meters.\n",
    "- `teamKills` - Number of times this player killed a teammate.\n",
    "- `vehicleDestroys` - Number of vehicles destroyed.\n",
    "- `walkDistance` - Total distance traveled on foot measured in meters.\n",
    "- `weaponsAcquired` - Number of weapons picked up.\n",
    "- `winPoints` - Win-based external ranking of player. (Think of this as an Elo ranking where only winning matters.)\n",
    "- `winPlacePerc` - The target of prediction. This is a percentile winning placement, where 1 corresponds to 1st place, and 0 corresponds to last place in the match. It is calculated off of maxPlace, not numGroups, so it is possible to have missing chunks in a match."
   ]
  },
  {
   "cell_type": "markdown",
   "metadata": {},
   "source": [
    "## 1. The killers\n",
    "\n",
    "- 일단 `print`도 굉장히 많이 사용되고, `.format`의 활용법을 알아놔야할 듯"
   ]
  },
  {
   "cell_type": "code",
   "execution_count": 8,
   "metadata": {},
   "outputs": [
    {
     "name": "stdout",
     "output_type": "stream",
     "text": [
      "플레이어들은 평균 0.9248 킬을 기록했고, 99%의 플레이들은 7.0 킬 이하를, 가장 킬을 많이한 여포는 무려 72명의 뚝배기를 부쉈다...\n"
     ]
    }
   ],
   "source": [
    "print('플레이어들은 평균 {:.4f} 킬을 기록했고, 99%의 플레이들은 {} 킬 이하를, 가장 킬을 많이한 여포는 무려 {}명의 뚝배기를 부쉈다...'\n",
    "     .format(data['kills'].mean(), data['kills'].quantile(0.99), data['kills'].max()))"
   ]
  },
  {
   "cell_type": "code",
   "execution_count": 9,
   "metadata": {
    "scrolled": true
   },
   "outputs": [
    {
     "data": {
      "image/png": "[encoded data removed]",
      "text/plain": [
       "<Figure size 1080x720 with 1 Axes>"
      ]
     },
     "metadata": {},
     "output_type": "display_data"
    }
   ],
   "source": [
    "#sns.countplot 사용법 익히기 : 일단 히스토그램과 비슷함\n",
    "data.loc[data['kills'] > data['kills'].quantile(0.99)] = '8+'\n",
    "plt.figure(figsize=(15,10))\n",
    "sns.countplot(data['kills'].astype('str').sort_values())\n",
    "plt.title(\"Kill Count\",fontsize=15)\n",
    "plt.show()"
   ]
  },
  {
   "cell_type": "markdown",
   "metadata": {},
   "source": [
    "- 약 58%는 1킬도 못하고 사망한다."
   ]
  },
  {
   "cell_type": "code",
   "execution_count": 23,
   "metadata": {},
   "outputs": [
    {
     "data": {
      "text/plain": [
       "56.89"
      ]
     },
     "execution_count": 23,
     "metadata": {},
     "output_type": "execute_result"
    }
   ],
   "source": [
    "round(len(data['kills'][data['kills']==0])/len(data['kills'])*100,2)"
   ]
  },
  {
   "cell_type": "markdown",
   "metadata": {},
   "source": [
    "- 이 58%의 사람들은 누구를 맞추기는 하는걸까?\n",
    "- `data['kills']`의 일부를 '8+'라는 str로 변경했다. 다시 data를 원 train에서 deep copy한다.\n",
    "- 이 사람은 한 작업이 끝나면 계속해서 data를 원복하는 과정을 반복했다. \n",
    "- 하나의 분석 과정이 불필요하게 다음 분석에 영향을 미치는 것을 꺼리는 듯 하다."
   ]
  },
  {
   "cell_type": "code",
   "execution_count": 24,
   "metadata": {
    "scrolled": true
   },
   "outputs": [
    {
     "data": {
      "image/png": "[encoded data removed]",
      "text/plain": [
       "<Figure size 1080x720 with 1 Axes>"
      ]
     },
     "metadata": {},
     "output_type": "display_data"
    }
   ],
   "source": [
    "data = train.copy()\n",
    "zeros = data[data['kills']==0]\n",
    "plt.figure(figsize=(15,10))\n",
    "plt.title(\"Damage Dealt by 0 killers\",fontsize=15)\n",
    "sns.distplot(zeros['damageDealt'])\n",
    "plt.show()"
   ]
  },
  {
   "cell_type": "markdown",
   "metadata": {},
   "source": [
    "- 아.. 계속 copy하니까 시간이 생각보다 오래 걸리는데? 좋은 컴퓨터에서 하거나 AWS에서 다시 해보고 앞으로 어떻게 할지는 고민해봐야겠다."
   ]
  },
  {
   "cell_type": "code",
   "execution_count": 30,
   "metadata": {},
   "outputs": [],
   "source": [
    "zero_len = len(zeros['damageDealt'][zeros['damageDealt']==0])\n",
    "zero_pct = round(zero_len/len(zeros['damageDealt'])*100)\n"
   ]
  },
  {
   "cell_type": "code",
   "execution_count": 31,
   "metadata": {},
   "outputs": [
    {
     "data": {
      "text/plain": [
       "(1233949, 49)"
      ]
     },
     "execution_count": 31,
     "metadata": {},
     "output_type": "execute_result"
    }
   ],
   "source": [
    "zero_len, zero_pct"
   ]
  },
  {
   "cell_type": "code",
   "execution_count": 43,
   "metadata": {},
   "outputs": [
    {
     "name": "stdout",
     "output_type": "stream",
     "text": [
      "전체 4446966명 중 \n",
      " 0킬인 플레이어 2529722명\n",
      "  이의 49%인 1233949명은 한발도 맞추지 못하고 전장에서 쓰러졌다...\n"
     ]
    }
   ],
   "source": [
    "print('전체 {}명 중 \\n 0킬인 플레이어 {}명\\n  이의 {}%인 {}명은 한발도 맞추지 못하고 전장에서 쓰러졌다...'\n",
    "      .format(len(data),len(zeros), zero_pct, zero_len))"
   ]
  },
  {
   "cell_type": "markdown",
   "metadata": {},
   "source": [
    "#### - 반대로 하나의 킬도 기록하지 못하고 이긴 사람, 한발도 못 맞추고 이긴 사람은 전체의 몇%, 몇명일까?"
   ]
  },
  {
   "cell_type": "code",
   "execution_count": 61,
   "metadata": {},
   "outputs": [
    {
     "name": "stdout",
     "output_type": "stream",
     "text": [
      "127573 players (0.3748%) have won without a single kill!\n",
      "4770 players (0.1073%) have won without dealing damage!\n"
     ]
    }
   ],
   "source": [
    "print(\"{} players ({:.4f}%) have won without a single kill!\".format(len(data[data['winPlacePerc']==1]), 100*len(zeros[zeros['winPlacePerc']==1])/len(train)))\n",
    "\n",
    "data1 = train[train['damageDealt'] == 0].copy()\n",
    "print(\"{} players ({:.4f}%) have won without dealing damage!\".format(len(data1[data1['winPlacePerc']==1]), 100*len(data1[data1['winPlacePerc']==1])/len(train)))"
   ]
  },
  {
   "cell_type": "code",
   "execution_count": 50,
   "metadata": {},
   "outputs": [
    {
     "data": {
      "text/plain": [
       "13"
      ]
     },
     "execution_count": 50,
     "metadata": {},
     "output_type": "execute_result"
    }
   ],
   "source": [
    "round(sum(zeros['winPlacePerc']==1)/sum(data['winPlacePerc']==1)*100)\n",
    "round(sum(zeros['winPlacePerc']==1)/sum(data['winPlacePerc']==1)*100))\n",
    "round(sum(zeros['winPlacePerc']==1)/sum(data['winPlacePerc']==1)*100)"
   ]
  },
  {
   "cell_type": "code",
   "execution_count": 53,
   "metadata": {},
   "outputs": [
    {
     "data": {
      "text/plain": [
       "16666"
      ]
     },
     "execution_count": 53,
     "metadata": {},
     "output_type": "execute_result"
    }
   ],
   "source": [
    "sum(zeros['winPlacePerc']==1)"
   ]
  },
  {
   "cell_type": "code",
   "execution_count": null,
   "metadata": {},
   "outputs": [],
   "source": []
  }
 ],
 "metadata": {
  "kernelspec": {
   "display_name": "Python [conda env:tensorflow]",
   "language": "python",
   "name": "conda-env-tensorflow-py"
  },
  "language_info": {
   "codemirror_mode": {
    "name": "ipython",
    "version": 3
   },
   "file_extension": ".py",
   "mimetype": "text/x-python",
   "name": "python",
   "nbconvert_exporter": "python",
   "pygments_lexer": "ipython3",
   "version": "3.5.5"
  }
 },
 "nbformat": 4,
 "nbformat_minor": 2
}
